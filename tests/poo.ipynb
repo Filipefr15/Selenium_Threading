{
 "cells": [
  {
   "cell_type": "code",
   "execution_count": 24,
   "metadata": {},
   "outputs": [],
   "source": [
    "class Televisao():\n",
    "    def __init__(self):\n",
    "        print(f\"O objeto {self} foi construído\")"
   ]
  },
  {
   "cell_type": "code",
   "execution_count": 25,
   "metadata": {},
   "outputs": [
    {
     "name": "stdout",
     "output_type": "stream",
     "text": [
      "O objeto <__main__.Televisao object at 0x0000027041B00D40> foi construído\n"
     ]
    }
   ],
   "source": [
    "tv_1 = Televisao()"
   ]
  },
  {
   "cell_type": "code",
   "execution_count": 12,
   "metadata": {},
   "outputs": [
    {
     "data": {
      "text/plain": [
       "__main__.Televisao"
      ]
     },
     "execution_count": 12,
     "metadata": {},
     "output_type": "execute_result"
    }
   ],
   "source": [
    "type(tv_1)"
   ]
  },
  {
   "cell_type": "code",
   "execution_count": null,
   "metadata": {},
   "outputs": [],
   "source": [
    "#Construtor\n",
    "\n",
    "class Televisao():\n",
    "    def __init__(self, marca, ano, n_canais, preco):\n",
    "        self.marca = marca\n",
    "        self.ano = ano\n",
    "        self.n_canais = n_canais\n",
    "        self.preco = preco\n",
    "    \n",
    "    def aumentar_canal(self, valor):\n",
    "        self.n_canais += valor\n",
    "\n",
    "    def diminuir_canal(self, valor):\n",
    "        if self.n_canais - valor <= 0:\n",
    "            print(\"O número de canais não pode ser zero ou negativo\")\n",
    "        else:\n",
    "            self.n_canais -= valor"
   ]
  },
  {
   "cell_type": "code",
   "execution_count": 56,
   "metadata": {},
   "outputs": [],
   "source": [
    "tv_7 = Televisao('LG', \"sim\", \"tambem\", \"ok\")\n",
    "tv_2 = Televisao('Samsung', 2020, 100, 2000)\n",
    "tv_3 = Televisao('Sony', 2019, 200, 3000)"
   ]
  },
  {
   "cell_type": "code",
   "execution_count": 48,
   "metadata": {},
   "outputs": [
    {
     "data": {
      "text/plain": [
       "300"
      ]
     },
     "execution_count": 48,
     "metadata": {},
     "output_type": "execute_result"
    }
   ],
   "source": [
    "tv_3.aumentar_canal(100)\n",
    "tv_3.n_canais"
   ]
  },
  {
   "cell_type": "code",
   "execution_count": 77,
   "metadata": {},
   "outputs": [
    {
     "name": "stdout",
     "output_type": "stream",
     "text": [
      "O número de canais não pode ser zero ou negativo\n"
     ]
    },
    {
     "data": {
      "text/plain": [
       "50"
      ]
     },
     "execution_count": 77,
     "metadata": {},
     "output_type": "execute_result"
    }
   ],
   "source": [
    "tv_3.diminuir_canal(50)\n",
    "tv_3.n_canais"
   ]
  }
 ],
 "metadata": {
  "kernelspec": {
   "display_name": "base",
   "language": "python",
   "name": "python3"
  },
  "language_info": {
   "codemirror_mode": {
    "name": "ipython",
    "version": 3
   },
   "file_extension": ".py",
   "mimetype": "text/x-python",
   "name": "python",
   "nbconvert_exporter": "python",
   "pygments_lexer": "ipython3",
   "version": "3.12.4"
  }
 },
 "nbformat": 4,
 "nbformat_minor": 2
}

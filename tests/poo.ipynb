{
 "cells": [
  {
   "cell_type": "code",
   "execution_count": null,
   "metadata": {},
   "outputs": [],
   "source": [
    "class Televisao():\n",
    "    def __init__(self):\n",
    "        print(f\"O objeto {self} foi construído\")"
   ]
  },
  {
   "cell_type": "code",
   "execution_count": null,
   "metadata": {},
   "outputs": [],
   "source": [
    "tv_1 = Televisao()"
   ]
  },
  {
   "cell_type": "code",
   "execution_count": null,
   "metadata": {},
   "outputs": [],
   "source": [
    "type(tv_1)"
   ]
  },
  {
   "cell_type": "code",
   "execution_count": null,
   "metadata": {},
   "outputs": [],
   "source": [
    "#Construtor\n",
    "\n",
    "class Televisao():\n",
    "    def __init__(self, marca, ano, n_canais, preco):\n",
    "        self.marca = marca\n",
    "        self.ano = ano\n",
    "        self.n_canais = n_canais\n",
    "        self.preco = preco\n",
    "    \n",
    "    def aumentar_canal(self, valor):\n",
    "        self.n_canais += valor\n",
    "\n",
    "    def diminuir_canal(self, valor):\n",
    "        if self.n_canais - valor <= 0:\n",
    "            print(\"O número de canais não pode ser zero ou negativo\")\n",
    "        else:\n",
    "            self.n_canais -= valor"
   ]
  },
  {
   "cell_type": "code",
   "execution_count": null,
   "metadata": {},
   "outputs": [],
   "source": [
    "tv_7 = Televisao('LG', \"sim\", \"tambem\", \"ok\")\n",
    "tv_2 = Televisao('Samsung', 2020, 100, 2000)\n",
    "tv_3 = Televisao('Sony', 2019, 200, 3000)"
   ]
  },
  {
   "cell_type": "code",
   "execution_count": null,
   "metadata": {},
   "outputs": [],
   "source": [
    "tv_7"
   ]
  },
  {
   "cell_type": "code",
   "execution_count": null,
   "metadata": {},
   "outputs": [],
   "source": [
    "LG = tv_7"
   ]
  },
  {
   "cell_type": "code",
   "execution_count": null,
   "metadata": {},
   "outputs": [],
   "source": [
    "LG.marca = 'Samsung'"
   ]
  },
  {
   "cell_type": "code",
   "execution_count": null,
   "metadata": {},
   "outputs": [],
   "source": [
    "tv_7.marca"
   ]
  },
  {
   "cell_type": "code",
   "execution_count": null,
   "metadata": {},
   "outputs": [],
   "source": [
    "LG = None"
   ]
  },
  {
   "cell_type": "code",
   "execution_count": null,
   "metadata": {},
   "outputs": [],
   "source": [
    "LG"
   ]
  },
  {
   "cell_type": "code",
   "execution_count": null,
   "metadata": {},
   "outputs": [],
   "source": [
    "#Construtor\n",
    "\n",
    "class Televisao():\n",
    "    def __init__(self, marca, ano, n_canais, preco):\n",
    "        self.marca = marca\n",
    "        self.ano = ano\n",
    "        self.n_canais = n_canais\n",
    "        self.preco = preco\n",
    "        self.__ligada = False #Torna o atributo privado\n",
    "    \n",
    "    def aumentar_canal(self, valor):\n",
    "        self.n_canais += valor\n",
    "\n",
    "    def diminuir_canal(self, valor):\n",
    "        if self.n_canais - valor <= 0:\n",
    "            print(\"O número de canais não pode ser zero ou negativo\")\n",
    "        else:\n",
    "            self.n_canais -= valor\n",
    "\n",
    "    def liga_tv(self):\n",
    "        self.__ligada = True\n",
    "\n",
    "    def desliga_tv(self):\n",
    "        self.__ligada = False\n",
    "\n",
    "    def __meu_privado(self):\n",
    "        print(\"Esse método é privado\")"
   ]
  },
  {
   "cell_type": "code",
   "execution_count": 3,
   "metadata": {},
   "outputs": [],
   "source": [
    "tv1 = Televisao('LG', 2020, 100, 2000)\n",
    "tv2 = Televisao('LG', 2020, 100, 2000)"
   ]
  },
  {
   "cell_type": "code",
   "execution_count": null,
   "metadata": {},
   "outputs": [
    {
     "ename": "AttributeError",
     "evalue": "'Televisao' object has no attribute '___meu_privado'",
     "output_type": "error",
     "traceback": [
      "\u001b[1;31m---------------------------------------------------------------------------\u001b[0m",
      "\u001b[1;31mAttributeError\u001b[0m                            Traceback (most recent call last)",
      "Cell \u001b[1;32mIn[6], line 1\u001b[0m\n\u001b[1;32m----> 1\u001b[0m tv2\u001b[38;5;241m.\u001b[39m___meu_privado()\n",
      "\u001b[1;31mAttributeError\u001b[0m: 'Televisao' object has no attribute '___meu_privado'"
     ]
    }
   ],
   "source": [
    "#não funciona\n",
    "#tv2.__meu_privado()"
   ]
  },
  {
   "cell_type": "code",
   "execution_count": 5,
   "metadata": {},
   "outputs": [
    {
     "data": {
      "text/plain": [
       "False"
      ]
     },
     "execution_count": 5,
     "metadata": {},
     "output_type": "execute_result"
    }
   ],
   "source": [
    "tv1._Televisao__ligada"
   ]
  },
  {
   "cell_type": "code",
   "execution_count": null,
   "metadata": {},
   "outputs": [],
   "source": [
    "#Construtor\n",
    "\n",
    "class Televisao():\n",
    "    def __init__(self, marca, ano, n_canais, preco):\n",
    "        self.marca = marca\n",
    "        self.ano = ano\n",
    "        self.n_canais = n_canais\n",
    "        self.preco = preco\n",
    "        self.__ligada = False #Torna o atributo privado\n",
    "    \n",
    "    def aumentar_canal(self, valor):\n",
    "        self.n_canais += valor\n",
    "\n",
    "    def diminuir_canal(self, valor):\n",
    "        if self.n_canais - valor <= 0:\n",
    "            print(\"O número de canais não pode ser zero ou negativo\")\n",
    "        else:\n",
    "            self.n_canais -= valor\n",
    "\n",
    "    def liga_tv(self):\n",
    "        self.__ligada = True\n",
    "\n",
    "    def desliga_tv(self):\n",
    "        self.__ligada = False\n",
    "\n",
    "    #set e get\n",
    "    def getMarca(self):\n",
    "        return self.marca\n",
    "    \n",
    "    def setMarca(self, marca_):\n",
    "        self.marca = marca_.title()\n",
    "\n",
    "    def setLigada(self, ligada):\n",
    "        self.__ligada = ligada\n",
    "    \n",
    "    def getLigada(self):\n",
    "        return self.__ligada"
   ]
  },
  {
   "cell_type": "code",
   "execution_count": 19,
   "metadata": {},
   "outputs": [],
   "source": [
    "b1 = Televisao('Filipes', 2020, 100, 2000)"
   ]
  },
  {
   "cell_type": "code",
   "execution_count": 20,
   "metadata": {},
   "outputs": [],
   "source": [
    "b1.setMarca(\"philips\")"
   ]
  },
  {
   "cell_type": "code",
   "execution_count": 21,
   "metadata": {},
   "outputs": [
    {
     "data": {
      "text/plain": [
       "'Philips'"
      ]
     },
     "execution_count": 21,
     "metadata": {},
     "output_type": "execute_result"
    }
   ],
   "source": [
    "b1.getMarca()"
   ]
  }
 ],
 "metadata": {
  "kernelspec": {
   "display_name": "base",
   "language": "python",
   "name": "python3"
  },
  "language_info": {
   "codemirror_mode": {
    "name": "ipython",
    "version": 3
   },
   "file_extension": ".py",
   "mimetype": "text/x-python",
   "name": "python",
   "nbconvert_exporter": "python",
   "pygments_lexer": "ipython3",
   "version": "3.12.4"
  }
 },
 "nbformat": 4,
 "nbformat_minor": 2
}

{
 "cells": [
  {
   "cell_type": "code",
   "execution_count": null,
   "metadata": {},
   "outputs": [],
   "source": [
    "class Televisao():\n",
    "    def __init__(self):\n",
    "        print(f\"O objeto {self} foi construído\")"
   ]
  },
  {
   "cell_type": "code",
   "execution_count": null,
   "metadata": {},
   "outputs": [],
   "source": [
    "tv_1 = Televisao()"
   ]
  },
  {
   "cell_type": "code",
   "execution_count": null,
   "metadata": {},
   "outputs": [],
   "source": [
    "type(tv_1)"
   ]
  },
  {
   "cell_type": "code",
   "execution_count": null,
   "metadata": {},
   "outputs": [],
   "source": [
    "#Construtor\n",
    "\n",
    "class Televisao():\n",
    "    def __init__(self, marca, ano, n_canais, preco):\n",
    "        self.marca = marca\n",
    "        self.ano = ano\n",
    "        self.n_canais = n_canais\n",
    "        self.preco = preco\n",
    "    \n",
    "    def aumentar_canal(self, valor):\n",
    "        self.n_canais += valor\n",
    "\n",
    "    def diminuir_canal(self, valor):\n",
    "        if self.n_canais - valor <= 0:\n",
    "            print(\"O número de canais não pode ser zero ou negativo\")\n",
    "        else:\n",
    "            self.n_canais -= valor"
   ]
  },
  {
   "cell_type": "code",
   "execution_count": null,
   "metadata": {},
   "outputs": [],
   "source": [
    "tv_7 = Televisao('LG', \"sim\", \"tambem\", \"ok\")\n",
    "tv_2 = Televisao('Samsung', 2020, 100, 2000)\n",
    "tv_3 = Televisao('Sony', 2019, 200, 3000)"
   ]
  },
  {
   "cell_type": "code",
   "execution_count": null,
   "metadata": {},
   "outputs": [],
   "source": [
    "tv_7"
   ]
  },
  {
   "cell_type": "code",
   "execution_count": null,
   "metadata": {},
   "outputs": [],
   "source": [
    "LG = tv_7"
   ]
  },
  {
   "cell_type": "code",
   "execution_count": null,
   "metadata": {},
   "outputs": [],
   "source": [
    "LG.marca = 'Samsung'"
   ]
  },
  {
   "cell_type": "code",
   "execution_count": null,
   "metadata": {},
   "outputs": [],
   "source": [
    "tv_7.marca"
   ]
  },
  {
   "cell_type": "code",
   "execution_count": null,
   "metadata": {},
   "outputs": [],
   "source": [
    "LG = None"
   ]
  },
  {
   "cell_type": "code",
   "execution_count": null,
   "metadata": {},
   "outputs": [],
   "source": [
    "LG"
   ]
  },
  {
   "cell_type": "code",
   "execution_count": null,
   "metadata": {},
   "outputs": [],
   "source": [
    "#Construtor\n",
    "\n",
    "class Televisao():\n",
    "    def __init__(self, marca, ano, n_canais, preco):\n",
    "        self.marca = marca\n",
    "        self.ano = ano\n",
    "        self.n_canais = n_canais\n",
    "        self.preco = preco\n",
    "        self.__ligada = False #Torna o atributo privado\n",
    "    \n",
    "    def aumentar_canal(self, valor):\n",
    "        self.n_canais += valor\n",
    "\n",
    "    def diminuir_canal(self, valor):\n",
    "        if self.n_canais - valor <= 0:\n",
    "            print(\"O número de canais não pode ser zero ou negativo\")\n",
    "        else:\n",
    "            self.n_canais -= valor\n",
    "\n",
    "    def liga_tv(self):\n",
    "        self.__ligada = True\n",
    "\n",
    "    def desliga_tv(self):\n",
    "        self.__ligada = False\n",
    "\n",
    "    def __meu_privado(self):\n",
    "        print(\"Esse método é privado\")"
   ]
  },
  {
   "cell_type": "code",
   "execution_count": null,
   "metadata": {},
   "outputs": [],
   "source": [
    "tv1 = Televisao('LG', 2020, 100, 2000)\n",
    "tv2 = Televisao('LG', 2020, 100, 2000)"
   ]
  },
  {
   "cell_type": "code",
   "execution_count": null,
   "metadata": {},
   "outputs": [],
   "source": [
    "#não funciona\n",
    "#tv2.__meu_privado()"
   ]
  },
  {
   "cell_type": "code",
   "execution_count": null,
   "metadata": {},
   "outputs": [],
   "source": [
    "tv1._Televisao__ligada"
   ]
  },
  {
   "cell_type": "code",
   "execution_count": null,
   "metadata": {},
   "outputs": [],
   "source": [
    "#Construtor\n",
    "\n",
    "class Televisao():\n",
    "    def __init__(self, marca, ano, n_canais, preco):\n",
    "        self.__marca = marca\n",
    "        self.__ano = ano\n",
    "        self.n_canais = n_canais\n",
    "        self.preco = preco\n",
    "        self.__ligada = False #Torna o atributo privado\n",
    "\n",
    "    @property\n",
    "    def marca(self):\n",
    "        return self.__marca\n",
    "    \n",
    "    @marca.setter\n",
    "    def marca(self, new_marca):\n",
    "        self.__marca = new_marca.title()\n",
    "    \n",
    "    def aumentar_canal(self, valor):\n",
    "        self.n_canais += valor\n",
    "\n",
    "    def diminuir_canal(self, valor):\n",
    "        if self.n_canais - valor <= 0:\n",
    "            print(\"O número de canais não pode ser zero ou negativo\")\n",
    "        else:\n",
    "            self.n_canais -= valor\n",
    "\n",
    "    def liga_tv(self):\n",
    "        self.__ligada = True\n",
    "\n",
    "    def desliga_tv(self):\n",
    "        self.__ligada = False\n",
    "\n",
    "    #set e get\n",
    "    def getMarca(self):\n",
    "        return self.marca\n",
    "    \n",
    "    def setLigada(self, ligada):\n",
    "        self.__ligada = ligada\n",
    "    \n",
    "    def getLigada(self):\n",
    "        return self.__ligada\n",
    "    \n",
    "    def setAno(self, novo_ano):\n",
    "        self.__ano = novo_ano\n",
    "    \n",
    "    def getAno(self):\n",
    "        return self.__ano\n",
    "    \n",
    "    #outra maneira de usar property\n",
    "    ano = property(fget = getAno, fset = setAno)"
   ]
  },
  {
   "cell_type": "code",
   "execution_count": null,
   "metadata": {},
   "outputs": [],
   "source": [
    "b1 = Televisao('Filipes', 2020, 100, 2000)"
   ]
  },
  {
   "cell_type": "code",
   "execution_count": null,
   "metadata": {},
   "outputs": [],
   "source": [
    "b1.marca = 'Philips'"
   ]
  },
  {
   "cell_type": "code",
   "execution_count": null,
   "metadata": {},
   "outputs": [],
   "source": [
    "b1.getMarca()"
   ]
  },
  {
   "cell_type": "code",
   "execution_count": null,
   "metadata": {},
   "outputs": [],
   "source": [
    "b1.ano"
   ]
  },
  {
   "cell_type": "code",
   "execution_count": null,
   "metadata": {},
   "outputs": [],
   "source": [
    "## Decorator para Get"
   ]
  },
  {
   "cell_type": "code",
   "execution_count": null,
   "metadata": {},
   "outputs": [],
   "source": [
    "b1.marca"
   ]
  },
  {
   "cell_type": "code",
   "execution_count": null,
   "metadata": {},
   "outputs": [],
   "source": [
    "b1.getAno()"
   ]
  },
  {
   "cell_type": "markdown",
   "metadata": {},
   "source": [
    "METODOS E ATRIBUTOS PROTEGIDOS\n",
    "Um underscore nao significa nada para o interpretador, mas é uma convenção entre os programadores para dizer que um atributo é privado"
   ]
  },
  {
   "cell_type": "code",
   "execution_count": null,
   "metadata": {},
   "outputs": [],
   "source": [
    "class Fratura:\n",
    "    def __init__(self, nf, tam, nome):\n",
    "        self._nf = nf #atributo protegido\n",
    "        self._tam = tam\n",
    "        self.__nome = nome #atributo privado\n",
    "    \n",
    "    def calculaArea(self):\n",
    "        return self._nf*self._tam"
   ]
  },
  {
   "cell_type": "code",
   "execution_count": null,
   "metadata": {},
   "outputs": [],
   "source": [
    "f1 = Fratura(5,10,'F1')"
   ]
  },
  {
   "cell_type": "code",
   "execution_count": null,
   "metadata": {},
   "outputs": [],
   "source": [
    "f1.calculaArea()"
   ]
  },
  {
   "cell_type": "code",
   "execution_count": null,
   "metadata": {},
   "outputs": [],
   "source": [
    "dir(f1)"
   ]
  },
  {
   "cell_type": "code",
   "execution_count": null,
   "metadata": {},
   "outputs": [],
   "source": [
    "f1._Fratura__nome"
   ]
  },
  {
   "cell_type": "markdown",
   "metadata": {},
   "source": [
    "Métodos estáticos\n",
    "Queremos um método que possa ser chamado via classe e via instância sem a necessidade de passar a referência deste objeto."
   ]
  },
  {
   "cell_type": "code",
   "execution_count": null,
   "metadata": {},
   "outputs": [],
   "source": [
    "class Pessoa:\n",
    "    num_pessoas = 0\n",
    "\n",
    "    def __init__(self, idade):\n",
    "        self.__idade = idade\n",
    "        Pessoa.num_pessoas += 1\n",
    "\n",
    "    def get_num_pessoas(self):\n",
    "        return Pessoa.num_pessoas"
   ]
  },
  {
   "cell_type": "code",
   "execution_count": null,
   "metadata": {},
   "outputs": [],
   "source": [
    "g1 = Pessoa(12)"
   ]
  },
  {
   "cell_type": "code",
   "execution_count": null,
   "metadata": {},
   "outputs": [],
   "source": [
    "p1 = Pessoa(20)\n",
    "p2 = Pessoa(30)\n",
    "p3 = Pessoa(60)"
   ]
  },
  {
   "cell_type": "code",
   "execution_count": null,
   "metadata": {},
   "outputs": [],
   "source": [
    "Pessoa.get_num_pessoas(g1)"
   ]
  },
  {
   "cell_type": "code",
   "execution_count": null,
   "metadata": {},
   "outputs": [],
   "source": [
    "g1.get_num_pessoas()"
   ]
  },
  {
   "cell_type": "code",
   "execution_count": null,
   "metadata": {},
   "outputs": [],
   "source": [
    "#aula 3\n",
    "class Pessoa:\n",
    "    num_pessoas = 0\n",
    "\n",
    "    def __init__(self, idade):\n",
    "        self.__idade = idade\n",
    "        Pessoa.num_pessoas += 1\n",
    "\n",
    "    @staticmethod\n",
    "    def get_num_pessoas():\n",
    "        return Pessoa.num_pessoas"
   ]
  },
  {
   "cell_type": "code",
   "execution_count": null,
   "metadata": {},
   "outputs": [],
   "source": [
    "p1 = Pessoa(20)\n",
    "p2 = Pessoa(30)\n",
    "p3 = Pessoa(60)"
   ]
  },
  {
   "cell_type": "code",
   "execution_count": null,
   "metadata": {},
   "outputs": [],
   "source": [
    "Pessoa.get_num_pessoas()\n",
    "#p1.get_num_pessoas()"
   ]
  },
  {
   "cell_type": "markdown",
   "metadata": {},
   "source": [
    "Métodos de classe\n",
    "    Métodos de classe: usamos o decorador: @classmethod\n",
    "    Métodos estáticos: usamos o decorador: @staticmethod\n",
    "\n",
    "(ambos não estão ligados a instância, mas sim a classe)"
   ]
  },
  {
   "cell_type": "code",
   "execution_count": null,
   "metadata": {},
   "outputs": [],
   "source": [
    "class Pessoa:\n",
    "    num_pessoas = 0\n",
    "\n",
    "    def __init__(self, idade):\n",
    "        self.__idade = idade\n",
    "        Pessoa.num_pessoas += 1\n",
    "\n",
    "    #por algum motivo cls é o padrão de classmethod\n",
    "    @classmethod\n",
    "    def get_num_pessoas(cls):\n",
    "        return Pessoa.num_pessoas"
   ]
  },
  {
   "cell_type": "code",
   "execution_count": null,
   "metadata": {},
   "outputs": [],
   "source": [
    "p1 = Pessoa(20)"
   ]
  },
  {
   "cell_type": "code",
   "execution_count": null,
   "metadata": {},
   "outputs": [],
   "source": [
    "Pessoa.get_num_pessoas()"
   ]
  },
  {
   "cell_type": "markdown",
   "metadata": {},
   "source": [
    "@classmethod (entram na herança)\n",
    "\n",
    "@staticmethod (não entram na herança)"
   ]
  },
  {
   "cell_type": "markdown",
   "metadata": {},
   "source": [
    "Conceito de _slots_"
   ]
  },
  {
   "cell_type": "code",
   "execution_count": null,
   "metadata": {},
   "outputs": [],
   "source": [
    "class Pessoa:\n",
    "    num_pessoas = 0\n",
    "    __slots__ = ['__idade', 'nome']\n",
    "\n",
    "    def __init__(self, idade, nome):\n",
    "        self.__idade = idade\n",
    "        self.nome = nome\n",
    "        Pessoa.num_pessoas += 1\n",
    "\n",
    "    #por algum motivo cls é o padrão de classmethod\n",
    "    @classmethod\n",
    "    def get_num_pessoas(cls):\n",
    "        return Pessoa.num_pessoas"
   ]
  },
  {
   "cell_type": "code",
   "execution_count": null,
   "metadata": {},
   "outputs": [],
   "source": [
    "pp = Pessoa(6, 'Filipe')"
   ]
  },
  {
   "cell_type": "code",
   "execution_count": null,
   "metadata": {},
   "outputs": [],
   "source": [
    "#sem os slots, é possível adicionar atributos\n",
    "pp.nome = 'Quilipe'"
   ]
  },
  {
   "cell_type": "markdown",
   "metadata": {},
   "source": [
    "Métodos Mágicos"
   ]
  },
  {
   "cell_type": "code",
   "execution_count": null,
   "metadata": {},
   "outputs": [],
   "source": [
    "#métodos fundamentais dentro da classe\n",
    "dir(pp)"
   ]
  },
  {
   "cell_type": "code",
   "execution_count": null,
   "metadata": {},
   "outputs": [],
   "source": [
    "pessoa = object.__new__(Pessoa)"
   ]
  },
  {
   "cell_type": "code",
   "execution_count": null,
   "metadata": {},
   "outputs": [],
   "source": [
    "pessoa.__init__(24, 'Filipe')"
   ]
  },
  {
   "cell_type": "code",
   "execution_count": null,
   "metadata": {},
   "outputs": [],
   "source": [
    "pessoa.nome"
   ]
  },
  {
   "cell_type": "markdown",
   "metadata": {},
   "source": [
    "Heranças das Classes\n",
    "\n",
    "Boas práticas: <br>\n",
    "    * Proteger os atributos os deixando privados <br>\n",
    "    * Encapsular fazendo validações de valores dos atributos <br>\n",
    "    * Usar heranças para evitar repetir códigos <br>\n",
    "\n",
    "Herança: <br>\n",
    "    * Toda classe já herda de object (mãe de todas as classes) <br>\n",
    "    * Classe mãe ou super class <br>\n",
    "    * Classe filha"
   ]
  },
  {
   "cell_type": "code",
   "execution_count": null,
   "metadata": {},
   "outputs": [],
   "source": [
    "#Super Clase object\n",
    "\n",
    "class Funcionario:\n",
    "    def __init__(self, nome, cpf, salario):\n",
    "        self._nome = nome\n",
    "        self._cpf = cpf\n",
    "        self._salario = salario"
   ]
  },
  {
   "cell_type": "code",
   "execution_count": null,
   "metadata": {},
   "outputs": [],
   "source": [
    "class Gerente:\n",
    "    def __init__(self, nome, cpf, salario, senha, qtd_subordinados):\n",
    "        self._nome = nome\n",
    "        self._cpf = cpf\n",
    "        self._salario = salario\n",
    "        self._senha = senha\n",
    "        self._qtd_subordinados = qtd_subordinados\n",
    "\n",
    "    def validacao(self, senha):\n",
    "        if self._senha == senha:\n",
    "            print(\"Acesso permitido\")\n",
    "        else:\n",
    "            print(\"Acesso negado\")"
   ]
  },
  {
   "cell_type": "code",
   "execution_count": null,
   "metadata": {},
   "outputs": [],
   "source": [
    "class Secretaria:\n",
    "    def __init__(self, nome, cpf, salario, ramal):\n",
    "        self._nome = nome\n",
    "        self._cpf = cpf\n",
    "        self._salario = salario\n",
    "        self._ramal = ramal"
   ]
  },
  {
   "cell_type": "code",
   "execution_count": null,
   "metadata": {},
   "outputs": [],
   "source": [
    "pessoa1 = Gerente(\"Filipe\", \"11111111101\", 5000, \"1514\", 10)"
   ]
  },
  {
   "cell_type": "code",
   "execution_count": null,
   "metadata": {},
   "outputs": [],
   "source": [
    "pessoa1.validacao(\"1514\")"
   ]
  },
  {
   "cell_type": "markdown",
   "metadata": {},
   "source": [
    "Agora com herança!!"
   ]
  },
  {
   "cell_type": "code",
   "execution_count": null,
   "metadata": {},
   "outputs": [],
   "source": [
    "#Super Clase object\n",
    "\n",
    "class Funcionario:\n",
    "    def __init__(self, nome, cpf, salario):\n",
    "        self._nome = nome\n",
    "        self._cpf = cpf\n",
    "        self._salario = salario"
   ]
  },
  {
   "cell_type": "code",
   "execution_count": null,
   "metadata": {},
   "outputs": [],
   "source": [
    "class Gerente(Funcionario):\n",
    "    def __init__(self, nome, cpf, salario, senha, qtd_subordinados):\n",
    "        Funcionario.__init__(self, nome, cpf, salario)\n",
    "        self._senha = senha\n",
    "        self._qtd_subordinados = qtd_subordinados\n",
    "\n",
    "    def validacao(self, senha):\n",
    "        if self._senha == senha:\n",
    "            print(\"Acesso permitido\")\n",
    "        else:\n",
    "            print(\"Acesso negado\")"
   ]
  },
  {
   "cell_type": "code",
   "execution_count": null,
   "metadata": {},
   "outputs": [],
   "source": [
    "pessoa1 = Gerente(\"Filipe\", \"11111111101\", 5000, \"1514\", 10)"
   ]
  },
  {
   "cell_type": "code",
   "execution_count": null,
   "metadata": {},
   "outputs": [],
   "source": [
    "pessoa1.validacao(\"1514\")"
   ]
  },
  {
   "cell_type": "code",
   "execution_count": null,
   "metadata": {},
   "outputs": [],
   "source": [
    "#Método Super()\n",
    "class Secretaria(Funcionario):\n",
    "    def __init__(self, nome, cpf, salario, ramal):\n",
    "        super().__init__(nome, cpf, salario)\n",
    "        self._ramal = ramal"
   ]
  },
  {
   "cell_type": "code",
   "execution_count": null,
   "metadata": {},
   "outputs": [],
   "source": [
    "s1 = Secretaria('Joaquina', '12121231224', 2500, '09')"
   ]
  },
  {
   "cell_type": "code",
   "execution_count": null,
   "metadata": {},
   "outputs": [],
   "source": [
    "s1._salario"
   ]
  },
  {
   "cell_type": "markdown",
   "metadata": {},
   "source": [
    "Tipo É UM (?)"
   ]
  },
  {
   "cell_type": "code",
   "execution_count": null,
   "metadata": {},
   "outputs": [],
   "source": [
    "#É UM\n",
    "#Super Clase object\n",
    "\n",
    "class Funcionario:\n",
    "    def __init__(self, nome, cpf, salario):\n",
    "        self._nome = nome\n",
    "        self._cpf = cpf\n",
    "        self._salario = salario\n",
    "    \n",
    "    def mostra_bonus(self):\n",
    "        return self._salario*0.1\n"
   ]
  },
  {
   "cell_type": "code",
   "execution_count": null,
   "metadata": {},
   "outputs": [],
   "source": [
    "class Gerente(Funcionario):\n",
    "    def __init__(self, nome, cpf, salario, senha, qtd_subordinados):\n",
    "        Funcionario.__init__(self, nome, cpf, salario)\n",
    "        self._senha = senha\n",
    "        self._qtd_subordinados = qtd_subordinados\n",
    "\n",
    "    def validacao(self, senha):\n",
    "        if self._senha == senha:\n",
    "            print(\"Acesso permitido\")\n",
    "        else:\n",
    "            print(\"Acesso negado\")\n",
    "\n",
    "    def mostra_bonus(self):\n",
    "        return self._salario*(self._qtd_subordinados/100)\n",
    "\n",
    "#Método Super()\n",
    "class Secretaria(Funcionario):\n",
    "    def __init__(self, nome, cpf, salario, qtde_gerentes):\n",
    "        super().__init__(nome, cpf, salario)\n",
    "        self._qtde_gerentes = qtde_gerentes\n",
    "    \n",
    "    def mostra_bonus(self):\n",
    "        return self._salario*(self._qtde_gerentes/100)"
   ]
  },
  {
   "cell_type": "code",
   "execution_count": null,
   "metadata": {},
   "outputs": [],
   "source": [
    "g1 = Gerente(\"Filipe\", \"11111111101\", 5000, \"1514\", 15)\n",
    "s1 = Secretaria('Joaquina', '12121231224', 2500, 60)"
   ]
  },
  {
   "cell_type": "code",
   "execution_count": null,
   "metadata": {},
   "outputs": [],
   "source": [
    "g1.mostra_bonus()"
   ]
  },
  {
   "cell_type": "code",
   "execution_count": null,
   "metadata": {},
   "outputs": [],
   "source": [
    "s1.mostra_bonus()"
   ]
  },
  {
   "cell_type": "markdown",
   "metadata": {},
   "source": [
    "POLIMORFISMO <br>\n",
    "    É a capacidade que um objeto possui de ser referenciado de várias formas\n",
    "\n",
    "Cuidado: <br>\n",
    "    Isso não quer dizer que o objeto fica se transformando <br>\n",
    "    Um objeto é instanciado de um tipo e fica sempre daquele tipo (o que muda é a maneira como fazemos a referência a ele)"
   ]
  },
  {
   "cell_type": "code",
   "execution_count": null,
   "metadata": {},
   "outputs": [],
   "source": [
    "#o polimorfismo é o fato de que um funcionário está entrando na função, mas caso tenha mostra_bonus() dentro, será feito...\n",
    "class GestaoDeBonus:\n",
    "\n",
    "    def __init__(self, total_bonificacoes=0):\n",
    "        self._total_bonificacoes = total_bonificacoes\n",
    "    \n",
    "    def registra(self, funcionario):\n",
    "        if(hasattr(funcionario, 'mostra_bonus')):\n",
    "            self._total_bonificacoes += funcionario.mostra_bonus()\n",
    "        else:\n",
    "            print(f\"O objeto {funcionario} não possui o método mostra_bonus()\")\n",
    "    \n",
    "    @property\n",
    "    def total_bonificacoes(self):\n",
    "        return self._total_bonificacoes"
   ]
  },
  {
   "cell_type": "code",
   "execution_count": null,
   "metadata": {},
   "outputs": [],
   "source": [
    "g1 = Gerente(\"Filipe\", \"11111111101\", 5000, \"1514\", 15)\n",
    "s1 = Secretaria('Joaquina', '12121231224', 2500, 60)"
   ]
  },
  {
   "cell_type": "code",
   "execution_count": null,
   "metadata": {},
   "outputs": [],
   "source": [
    "s2 = Secretaria('Joaquina', '12121231224', 2500, 6000)"
   ]
  },
  {
   "cell_type": "code",
   "execution_count": null,
   "metadata": {},
   "outputs": [],
   "source": [
    "gestao = GestaoDeBonus()"
   ]
  },
  {
   "cell_type": "code",
   "execution_count": null,
   "metadata": {},
   "outputs": [],
   "source": [
    "gestao.registra(g1)\n",
    "gestao.registra(s1)"
   ]
  },
  {
   "cell_type": "code",
   "execution_count": null,
   "metadata": {},
   "outputs": [],
   "source": [
    "gestao.total_bonificacoes"
   ]
  },
  {
   "cell_type": "markdown",
   "metadata": {},
   "source": [
    "Função hasattr (Verificar se existe tal atributo)"
   ]
  },
  {
   "cell_type": "code",
   "execution_count": null,
   "metadata": {},
   "outputs": [],
   "source": [
    "class Engenheiro:\n",
    "    def __init__(self, nome):\n",
    "        self._nome = nome"
   ]
  },
  {
   "cell_type": "code",
   "execution_count": null,
   "metadata": {},
   "outputs": [],
   "source": [
    "e1 = Engenheiro('Filipe')"
   ]
  },
  {
   "cell_type": "code",
   "execution_count": null,
   "metadata": {},
   "outputs": [],
   "source": [
    "#uau, nao tem como\n",
    "gestao.registra(e1)"
   ]
  },
  {
   "cell_type": "markdown",
   "metadata": {},
   "source": [
    "Função isinstance"
   ]
  },
  {
   "cell_type": "code",
   "execution_count": null,
   "metadata": {},
   "outputs": [],
   "source": [
    "class GestaoDeBonus:\n",
    "\n",
    "    def __init__(self, total_bonificacoes=0):\n",
    "        self._total_bonificacoes = total_bonificacoes\n",
    "    \n",
    "    def registra(self, funcionario):\n",
    "        if(isinstance(funcionario, Funcionario)):\n",
    "            self._total_bonificacoes += funcionario.mostra_bonus()\n",
    "        else:\n",
    "            print(f\"O objeto {funcionario} não possui o método mostra_bonus() (not Funcionario)\")\n",
    "    \n",
    "    @property\n",
    "    def total_bonificacoes(self):\n",
    "        return self._total_bonificacoes"
   ]
  },
  {
   "cell_type": "code",
   "execution_count": null,
   "metadata": {},
   "outputs": [],
   "source": [
    "gestao = GestaoDeBonus()"
   ]
  },
  {
   "cell_type": "markdown",
   "metadata": {},
   "source": [
    "Duck Typing (evita acoplamento excessivo)\n",
    "\n",
    "É uma característica de tipos em que a semântica de uma classe é determinada pela sua capacidade de responder a alguma mensagem"
   ]
  },
  {
   "cell_type": "code",
   "execution_count": 67,
   "metadata": {},
   "outputs": [],
   "source": [
    "#Praticando Duck Typing\n",
    "\n",
    "class ClubeGerentes:\n",
    "    def __init__(self, nome, funcionarios):\n",
    "        self.nome = nome\n",
    "        self._funcionarios = funcionarios\n",
    "\n",
    "    #getitem das listas\n",
    "    def __getitem__(self, item):\n",
    "        return self._funcionarios[item]\n",
    "\n",
    "    def __len__(self):\n",
    "        return len(self._funcionarios)\n",
    "\n",
    "    def add_item(self, item):\n",
    "        self._funcionarios.append(item)\n",
    "\n",
    "    def listagem(self):\n",
    "        return self._funcionarios\n",
    "    \n",
    "    def tamanho(self):\n",
    "        return len(self._funcionarios)"
   ]
  },
  {
   "cell_type": "code",
   "execution_count": null,
   "metadata": {},
   "outputs": [],
   "source": [
    "g1 = Gerente(\"Filipe\", \"11111111101\", 5000, \"1514\", 15)\n",
    "g2 = Gerente(\"Lucas\", \"11111111101\", 5000, \"1514\", 15)\n",
    "g3 = Gerente(\"Pedro\", \"11111111101\", 5000, \"1514\", 15)\n",
    "g4 = Gerente(\"João\", \"11111111101\", 5000, \"1514\", 15)\n",
    "g5 = Gerente(\"Maria\", \"11111111101\", 5000, \"1514\", 15)\n"
   ]
  },
  {
   "cell_type": "code",
   "execution_count": null,
   "metadata": {},
   "outputs": [],
   "source": [
    "lista_gerentes = [g1, g2, g3, g4, g5]"
   ]
  },
  {
   "cell_type": "code",
   "execution_count": 68,
   "metadata": {},
   "outputs": [],
   "source": [
    "clube = ClubeGerentes('Clube dos Gerentes', lista_gerentes)"
   ]
  },
  {
   "cell_type": "code",
   "execution_count": 71,
   "metadata": {},
   "outputs": [
    {
     "data": {},
     "execution_count": 71,
     "metadata": {},
     "output_type": "execute_result"
    }
   ],
   "source": [
    "clube.listagem()"
   ]
  },
  {
   "cell_type": "code",
   "execution_count": 72,
   "metadata": {},
   "outputs": [
    {
     "name": "stdout",
     "output_type": "stream",
     "text": []
    }
   ],
   "source": [
    "for g in clube.listagem():\n",
    "    print(g._nome)"
   ]
  },
  {
   "cell_type": "code",
   "execution_count": 73,
   "metadata": {},
   "outputs": [
    {
     "name": "stdout",
     "output_type": "stream",
     "text": []
    }
   ],
   "source": [
    "#Transformando a classe em uma lista (iteravel)\n",
    "for g in clube:\n",
    "    print(g._nome)"
   ]
  },
  {
   "cell_type": "code",
   "execution_count": 66,
   "metadata": {},
   "outputs": [
    {
     "data": {},
     "execution_count": 66,
     "metadata": {},
     "output_type": "execute_result"
    }
   ],
   "source": [
    "clube[1]._nome"
   ]
  },
  {
   "cell_type": "code",
   "execution_count": 70,
   "metadata": {},
   "outputs": [],
   "source": [
    "#implementando o método append\n",
    "clube.add_item(g1)"
   ]
  },
  {
   "cell_type": "markdown",
   "metadata": {},
   "source": [
    "(Pesquisar DUNDER/MAGIC methods)"
   ]
  },
  {
   "cell_type": "markdown",
   "metadata": {},
   "source": [
    "Classes Abstratas ou ABS\n",
    "\n",
    "Complementa a ideia de Duck Typing\n",
    "\n",
    "Projeto para outras classes <br>\n",
    "Reforçar a implementação da interface(métodos)(classes filhas) <br>\n",
    "Obriga a criação de métodos <br>\n",
    "Uma classe abstrata não pode ser instanciada <br>\n",
    "Deve conter pelo menos um método abstrato\n",
    "\n",
    "Um método abstrato possui uma declaração, mas não uma implementação\n",
    "\n",
    "Para transformar um método em abstrato- decorar: @abstractmethod"
   ]
  },
  {
   "cell_type": "code",
   "execution_count": null,
   "metadata": {},
   "outputs": [],
   "source": [
    "from abc import ABC #abstract base class"
   ]
  },
  {
   "cell_type": "code",
   "execution_count": 75,
   "metadata": {},
   "outputs": [],
   "source": [
    "from collections.abc import MutableSequence"
   ]
  },
  {
   "cell_type": "code",
   "execution_count": 79,
   "metadata": {},
   "outputs": [],
   "source": [
    "class ClubeSecretarias(MutableSequence):\n",
    "    \n",
    "    def __delitem__(self, item):\n",
    "        print('deleted')\n",
    "\n",
    "    def __getitem__(self, item):\n",
    "        print('coletei')\n",
    "\n",
    "    def __len__(self):\n",
    "        print('tamanho')\n",
    "    \n",
    "    def __setitem__(self, key, value):\n",
    "        print('setei')\n",
    "    \n",
    "    def insert(self, index, value):\n",
    "        print('inseri')"
   ]
  },
  {
   "cell_type": "code",
   "execution_count": 80,
   "metadata": {},
   "outputs": [],
   "source": [
    "cs = ClubeSecretarias()"
   ]
  },
  {
   "cell_type": "code",
   "execution_count": 85,
   "metadata": {},
   "outputs": [
    {
     "name": "stdout",
     "output_type": "stream",
     "text": []
    }
   ],
   "source": [
    "cs.__len__()"
   ]
  },
  {
   "cell_type": "markdown",
   "metadata": {},
   "source": [
    "Criando uma Classe Abstrata"
   ]
  },
  {
   "cell_type": "code",
   "execution_count": 86,
   "metadata": {},
   "outputs": [],
   "source": [
    "import abc"
   ]
  },
  {
   "cell_type": "code",
   "execution_count": 93,
   "metadata": {},
   "outputs": [],
   "source": [
    "class Funcionario(abc.ABC):\n",
    "    @abc.abstractclassmethod\n",
    "    def nome(self):\n",
    "        print('nome')\n",
    "\n",
    "    @abc.abstractclassmethod\n",
    "    def salario(self):\n",
    "        print('salario')"
   ]
  },
  {
   "cell_type": "code",
   "execution_count": 100,
   "metadata": {},
   "outputs": [],
   "source": [
    "class Gerente(Funcionario):\n",
    "    def __init__(self, nome, salario):\n",
    "        self._nome = nome\n",
    "        self._salario = salario\n",
    "    \n",
    "    def nome(self):\n",
    "        return self._nome\n",
    "    \n",
    "    def salario(self):\n",
    "        return self._salario"
   ]
  },
  {
   "cell_type": "code",
   "execution_count": 101,
   "metadata": {},
   "outputs": [],
   "source": [
    "g1 = Gerente('Filipe', 5000)"
   ]
  },
  {
   "cell_type": "code",
   "execution_count": 97,
   "metadata": {},
   "outputs": [
    {
     "data": {},
     "execution_count": 97,
     "metadata": {},
     "output_type": "execute_result"
    }
   ],
   "source": [
    "g1.nome()"
   ]
  },
  {
   "cell_type": "markdown",
   "metadata": {},
   "source": [
    "Herança Múltipla\n",
    "\n",
    "Classe que herda de várias outras <br>\n",
    " * Problema: <br>\n",
    "    * Duas superclasses podem possuir o mesmo método ou atributo\n",
    "    * Classes podem possuir o mesmo método"
   ]
  },
  {
   "cell_type": "code",
   "execution_count": 156,
   "metadata": {},
   "outputs": [],
   "source": [
    "#Problema do diamante ou losango!!!\n",
    "class A:\n",
    "    def m1(self):\n",
    "        print('Método de A')\n",
    "\n",
    "    def m2(self):\n",
    "        print('Método de A')"
   ]
  },
  {
   "cell_type": "code",
   "execution_count": 158,
   "metadata": {},
   "outputs": [],
   "source": [
    "class B(A):\n",
    "    def m2(self):\n",
    "        print('Método de B')"
   ]
  },
  {
   "cell_type": "code",
   "execution_count": 157,
   "metadata": {},
   "outputs": [],
   "source": [
    "class C(A):\n",
    "    def m2(self):\n",
    "        print('Método de C')"
   ]
  },
  {
   "cell_type": "code",
   "execution_count": 166,
   "metadata": {},
   "outputs": [],
   "source": [
    "class D(B, C):\n",
    "    pass"
   ]
  },
  {
   "cell_type": "code",
   "execution_count": 167,
   "metadata": {},
   "outputs": [],
   "source": [
    "ok = D()"
   ]
  },
  {
   "cell_type": "code",
   "execution_count": 168,
   "metadata": {},
   "outputs": [
    {
     "name": "stdout",
     "output_type": "stream",
     "text": []
    }
   ],
   "source": [
    "ok.m2()"
   ]
  },
  {
   "cell_type": "markdown",
   "metadata": {},
   "source": [
    "Solução do problema dos diamantes <br>\n",
    " * MRO: Method Resolution Order (Ordem de Resolução dos Métodos)\n",
    "\n",
    " Atenção:\n",
    "  * Toda classe tem o atributo __mro__\\\n",
    "   * Retorna uma tupla de referências das superclasses na ordem MRO"
   ]
  },
  {
   "cell_type": "code",
   "execution_count": 169,
   "metadata": {},
   "outputs": [
    {
     "data": {},
     "execution_count": 169,
     "metadata": {},
     "output_type": "execute_result"
    }
   ],
   "source": [
    "D.mro()"
   ]
  },
  {
   "cell_type": "code",
   "execution_count": 171,
   "metadata": {},
   "outputs": [
    {
     "data": {},
     "execution_count": 171,
     "metadata": {},
     "output_type": "execute_result"
    }
   ],
   "source": [
    "C.mro()"
   ]
  },
  {
   "cell_type": "code",
   "execution_count": null,
   "metadata": {},
   "outputs": [
    {
     "data": {
      "text/plain": [
       "''"
      ]
     },
     "execution_count": 35,
     "metadata": {},
     "output_type": "execute_result"
    }
   ],
   "source": [
    "from fpdf import FPDF\n",
    "\n",
    "# Dados fictícios (você pode trocar depois)\n",
    "renda_fixa = [\n",
    "    [\"CDI\", \"0,0480%\", \"0,3841%\", \"0,9853%\", \"2,5629%\", \"10,88%\", \"25,26%\", \"41,56%\"],\n",
    "    [\"IMA - S\", \"0,0403%\", \"0,3813%\", \"0,9663%\", \"2,5130%\", \"10,65%\", \"25,22%\", \"40,40%\"],\n",
    "    [\"IRF - M1\", \"0,0515%\", \"0,4316%\", \"1,0597%\", \"2,7740%\", \"-1,06%\", \"23,30%\", \"39,60%\"],\n",
    "]\n",
    "\n",
    "renda_variavel = [\n",
    "    [\"Ibovespa\", \"1,4311%\", \"2,3111%\", \"-2,6549%\", \"4,6909%\", \"-10,58%\", \"16,82%\", \"15,30%\"],\n",
    "    [\"Índice Small Cap\", \"0,7970%\", \"1,2385%\", \"-3,1584%\", \"1,5040%\", \"-14,90%\", \"13,54%\", \"12,27%\"],\n",
    "    [\"BDR X\", \"-1,8207%\", \"-3,3779%\", \"-7,5610%\", \"-3,1027%\", \"7,95%\", \"11,24%\", \"9,87%\"],\n",
    "]\n",
    "\n",
    "# Cabeçalhos das colunas\n",
    "headers = [\"Nome\", \"Dia\", \"Mês Atual\", \"Mês Anterior\", \"Ano Atual\", \"Ano Anterior\", \"12 Meses\", \"24 Meses\"]\n",
    "\n",
    "# Cores\n",
    "AZUL = (9, 35, 74)\n",
    "BRANCO = (255, 255, 255)\n",
    "VERMELHO = (200, 0, 0)\n",
    "PRETO = (0, 0, 0)\n",
    "\n",
    "class PDF(FPDF):\n",
    "    def header(self):\n",
    "        self.set_font(\"Arial\", \"B\", 14)\n",
    "        self.set_text_color(*AZUL)\n",
    "        self.cell(0, 10, \"Relatório de Rentabilidade\", ln=True, align=\"C\")\n",
    "        self.ln(5)\n",
    "\n",
    "    def add_section_title(self, title):\n",
    "        self.set_font(\"Arial\", \"B\", 12)\n",
    "        self.set_text_color(*PRETO)\n",
    "        self.cell(0, 10, title, ln=True)\n",
    "        self.ln(2)\n",
    "\n",
    "    def add_table(self, data):\n",
    "        self.set_font(\"Arial\", \"B\", 9)\n",
    "        self.set_fill_color(*AZUL)\n",
    "        self.set_text_color(*BRANCO)\n",
    "\n",
    "        col_widths = [55, 22, 24, 24, 24, 26, 26, 26]\n",
    "\n",
    "        for i, header in enumerate(headers):\n",
    "            self.cell(col_widths[i], 9, header, border=1, align=\"C\", fill=True)\n",
    "        self.ln()\n",
    "\n",
    "        self.set_font(\"Arial\", \"\", 8)\n",
    "\n",
    "        for row in data:\n",
    "            for i, item in enumerate(row):\n",
    "                if \"-\" in item:\n",
    "                    self.set_text_color(*VERMELHO)\n",
    "                else:\n",
    "                    self.set_text_color(*PRETO)\n",
    "                self.cell(col_widths[i], 7, item, border=1, align=\"C\")\n",
    "            self.ln()\n",
    "\n",
    "\n",
    "# Criando o PDF\n",
    "pdf = PDF(orientation=\"L\", format=\"A4\")  # 👈 paisagem (Landscape)\n",
    "pdf.add_page()\n",
    "\n",
    "pdf.add_section_title(\"Renda Fixa\")\n",
    "pdf.add_table(renda_fixa)\n",
    "\n",
    "pdf.ln(5)\n",
    "pdf.add_section_title(\"Renda Variável\")\n",
    "pdf.add_table(renda_variavel)\n",
    "\n",
    "# Salvar arquivo\n",
    "pdf.output(\"relatorio_rentabilidade.pdf\")\n"
   ]
  }
 ],
 "metadata": {
  "kernelspec": {
   "display_name": "base",
   "language": "python",
   "name": "python3"
  },
  "language_info": {
   "codemirror_mode": {
    "name": "ipython",
    "version": 3
   },
   "file_extension": ".py",
   "mimetype": "text/x-python",
   "name": "python",
   "nbconvert_exporter": "python",
   "pygments_lexer": "ipython3",
   "version": "3.12.4"
  }
 },
 "nbformat": 4,
 "nbformat_minor": 2
}

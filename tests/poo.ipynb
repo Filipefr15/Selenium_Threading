{
 "cells": [
  {
   "cell_type": "code",
   "execution_count": null,
   "metadata": {},
   "outputs": [],
   "source": [
    "class Televisao():\n",
    "    def __init__(self):\n",
    "        print(f\"O objeto {self} foi construído\")"
   ]
  },
  {
   "cell_type": "code",
   "execution_count": null,
   "metadata": {},
   "outputs": [],
   "source": [
    "tv_1 = Televisao()"
   ]
  },
  {
   "cell_type": "code",
   "execution_count": null,
   "metadata": {},
   "outputs": [],
   "source": [
    "type(tv_1)"
   ]
  },
  {
   "cell_type": "code",
   "execution_count": null,
   "metadata": {},
   "outputs": [],
   "source": [
    "#Construtor\n",
    "\n",
    "class Televisao():\n",
    "    def __init__(self, marca, ano, n_canais, preco):\n",
    "        self.marca = marca\n",
    "        self.ano = ano\n",
    "        self.n_canais = n_canais\n",
    "        self.preco = preco\n",
    "    \n",
    "    def aumentar_canal(self, valor):\n",
    "        self.n_canais += valor\n",
    "\n",
    "    def diminuir_canal(self, valor):\n",
    "        if self.n_canais - valor <= 0:\n",
    "            print(\"O número de canais não pode ser zero ou negativo\")\n",
    "        else:\n",
    "            self.n_canais -= valor"
   ]
  },
  {
   "cell_type": "code",
   "execution_count": null,
   "metadata": {},
   "outputs": [],
   "source": [
    "tv_7 = Televisao('LG', \"sim\", \"tambem\", \"ok\")\n",
    "tv_2 = Televisao('Samsung', 2020, 100, 2000)\n",
    "tv_3 = Televisao('Sony', 2019, 200, 3000)"
   ]
  },
  {
   "cell_type": "code",
   "execution_count": null,
   "metadata": {},
   "outputs": [],
   "source": [
    "tv_7"
   ]
  },
  {
   "cell_type": "code",
   "execution_count": null,
   "metadata": {},
   "outputs": [],
   "source": [
    "LG = tv_7"
   ]
  },
  {
   "cell_type": "code",
   "execution_count": null,
   "metadata": {},
   "outputs": [],
   "source": [
    "LG.marca = 'Samsung'"
   ]
  },
  {
   "cell_type": "code",
   "execution_count": null,
   "metadata": {},
   "outputs": [],
   "source": [
    "tv_7.marca"
   ]
  },
  {
   "cell_type": "code",
   "execution_count": null,
   "metadata": {},
   "outputs": [],
   "source": [
    "LG = None"
   ]
  },
  {
   "cell_type": "code",
   "execution_count": null,
   "metadata": {},
   "outputs": [],
   "source": [
    "LG"
   ]
  },
  {
   "cell_type": "code",
   "execution_count": null,
   "metadata": {},
   "outputs": [],
   "source": [
    "#Construtor\n",
    "\n",
    "class Televisao():\n",
    "    def __init__(self, marca, ano, n_canais, preco):\n",
    "        self.marca = marca\n",
    "        self.ano = ano\n",
    "        self.n_canais = n_canais\n",
    "        self.preco = preco\n",
    "        self.__ligada = False #Torna o atributo privado\n",
    "    \n",
    "    def aumentar_canal(self, valor):\n",
    "        self.n_canais += valor\n",
    "\n",
    "    def diminuir_canal(self, valor):\n",
    "        if self.n_canais - valor <= 0:\n",
    "            print(\"O número de canais não pode ser zero ou negativo\")\n",
    "        else:\n",
    "            self.n_canais -= valor\n",
    "\n",
    "    def liga_tv(self):\n",
    "        self.__ligada = True\n",
    "\n",
    "    def desliga_tv(self):\n",
    "        self.__ligada = False\n",
    "\n",
    "    def __meu_privado(self):\n",
    "        print(\"Esse método é privado\")"
   ]
  },
  {
   "cell_type": "code",
   "execution_count": null,
   "metadata": {},
   "outputs": [],
   "source": [
    "tv1 = Televisao('LG', 2020, 100, 2000)\n",
    "tv2 = Televisao('LG', 2020, 100, 2000)"
   ]
  },
  {
   "cell_type": "code",
   "execution_count": null,
   "metadata": {},
   "outputs": [],
   "source": [
    "#não funciona\n",
    "#tv2.__meu_privado()"
   ]
  },
  {
   "cell_type": "code",
   "execution_count": null,
   "metadata": {},
   "outputs": [],
   "source": [
    "tv1._Televisao__ligada"
   ]
  },
  {
   "cell_type": "code",
   "execution_count": null,
   "metadata": {},
   "outputs": [],
   "source": [
    "#Construtor\n",
    "\n",
    "class Televisao():\n",
    "    def __init__(self, marca, ano, n_canais, preco):\n",
    "        self.__marca = marca\n",
    "        self.__ano = ano\n",
    "        self.n_canais = n_canais\n",
    "        self.preco = preco\n",
    "        self.__ligada = False #Torna o atributo privado\n",
    "\n",
    "    @property\n",
    "    def marca(self):\n",
    "        return self.__marca\n",
    "    \n",
    "    @marca.setter\n",
    "    def marca(self, new_marca):\n",
    "        self.__marca = new_marca.title()\n",
    "    \n",
    "    def aumentar_canal(self, valor):\n",
    "        self.n_canais += valor\n",
    "\n",
    "    def diminuir_canal(self, valor):\n",
    "        if self.n_canais - valor <= 0:\n",
    "            print(\"O número de canais não pode ser zero ou negativo\")\n",
    "        else:\n",
    "            self.n_canais -= valor\n",
    "\n",
    "    def liga_tv(self):\n",
    "        self.__ligada = True\n",
    "\n",
    "    def desliga_tv(self):\n",
    "        self.__ligada = False\n",
    "\n",
    "    #set e get\n",
    "    def getMarca(self):\n",
    "        return self.marca\n",
    "    \n",
    "    def setLigada(self, ligada):\n",
    "        self.__ligada = ligada\n",
    "    \n",
    "    def getLigada(self):\n",
    "        return self.__ligada\n",
    "    \n",
    "    def setAno(self, novo_ano):\n",
    "        self.__ano = novo_ano\n",
    "    \n",
    "    def getAno(self):\n",
    "        return self.__ano\n",
    "    \n",
    "    #outra maneira de usar property\n",
    "    ano = property(fget = getAno, fset = setAno)"
   ]
  },
  {
   "cell_type": "code",
   "execution_count": null,
   "metadata": {},
   "outputs": [],
   "source": [
    "b1 = Televisao('Filipes', 2020, 100, 2000)"
   ]
  },
  {
   "cell_type": "code",
   "execution_count": null,
   "metadata": {},
   "outputs": [],
   "source": [
    "b1.marca = 'Philips'"
   ]
  },
  {
   "cell_type": "code",
   "execution_count": null,
   "metadata": {},
   "outputs": [],
   "source": [
    "b1.getMarca()"
   ]
  },
  {
   "cell_type": "code",
   "execution_count": null,
   "metadata": {},
   "outputs": [],
   "source": [
    "b1.ano"
   ]
  },
  {
   "cell_type": "code",
   "execution_count": null,
   "metadata": {},
   "outputs": [],
   "source": [
    "## Decorator para Get"
   ]
  },
  {
   "cell_type": "code",
   "execution_count": null,
   "metadata": {},
   "outputs": [],
   "source": [
    "b1.marca"
   ]
  },
  {
   "cell_type": "code",
   "execution_count": null,
   "metadata": {},
   "outputs": [],
   "source": [
    "b1.getAno()"
   ]
  },
  {
   "cell_type": "markdown",
   "metadata": {},
   "source": [
    "METODOS E ATRIBUTOS PROTEGIDOS\n",
    "Um underscore nao significa nada para o interpretador, mas é uma convenção entre os programadores para dizer que um atributo é privado"
   ]
  },
  {
   "cell_type": "code",
   "execution_count": null,
   "metadata": {},
   "outputs": [],
   "source": [
    "class Fratura:\n",
    "    def __init__(self, nf, tam, nome):\n",
    "        self._nf = nf #atributo protegido\n",
    "        self._tam = tam\n",
    "        self.__nome = nome #atributo privado\n",
    "    \n",
    "    def calculaArea(self):\n",
    "        return self._nf*self._tam"
   ]
  },
  {
   "cell_type": "code",
   "execution_count": null,
   "metadata": {},
   "outputs": [],
   "source": [
    "f1 = Fratura(5,10,'F1')"
   ]
  },
  {
   "cell_type": "code",
   "execution_count": null,
   "metadata": {},
   "outputs": [],
   "source": [
    "f1.calculaArea()"
   ]
  },
  {
   "cell_type": "code",
   "execution_count": null,
   "metadata": {},
   "outputs": [],
   "source": [
    "dir(f1)"
   ]
  },
  {
   "cell_type": "code",
   "execution_count": null,
   "metadata": {},
   "outputs": [],
   "source": [
    "f1._Fratura__nome"
   ]
  },
  {
   "cell_type": "markdown",
   "metadata": {},
   "source": [
    "Métodos estáticos\n",
    "Queremos um método que possa ser chamado via classe e via instância sem a necessidade de passar a referência deste objeto."
   ]
  },
  {
   "cell_type": "code",
   "execution_count": null,
   "metadata": {},
   "outputs": [],
   "source": [
    "class Pessoa:\n",
    "    num_pessoas = 0\n",
    "\n",
    "    def __init__(self, idade):\n",
    "        self.__idade = idade\n",
    "        Pessoa.num_pessoas += 1\n",
    "\n",
    "    def get_num_pessoas(self):\n",
    "        return Pessoa.num_pessoas"
   ]
  },
  {
   "cell_type": "code",
   "execution_count": null,
   "metadata": {},
   "outputs": [],
   "source": [
    "g1 = Pessoa(12)"
   ]
  },
  {
   "cell_type": "code",
   "execution_count": null,
   "metadata": {},
   "outputs": [],
   "source": [
    "p1 = Pessoa(20)\n",
    "p2 = Pessoa(30)\n",
    "p3 = Pessoa(60)"
   ]
  },
  {
   "cell_type": "code",
   "execution_count": null,
   "metadata": {},
   "outputs": [],
   "source": [
    "Pessoa.get_num_pessoas(g1)"
   ]
  },
  {
   "cell_type": "code",
   "execution_count": null,
   "metadata": {},
   "outputs": [],
   "source": [
    "g1.get_num_pessoas()"
   ]
  },
  {
   "cell_type": "code",
   "execution_count": null,
   "metadata": {},
   "outputs": [],
   "source": [
    "#aula 3\n",
    "class Pessoa:\n",
    "    num_pessoas = 0\n",
    "\n",
    "    def __init__(self, idade):\n",
    "        self.__idade = idade\n",
    "        Pessoa.num_pessoas += 1\n",
    "\n",
    "    @staticmethod\n",
    "    def get_num_pessoas():\n",
    "        return Pessoa.num_pessoas"
   ]
  },
  {
   "cell_type": "code",
   "execution_count": null,
   "metadata": {},
   "outputs": [],
   "source": [
    "p1 = Pessoa(20)\n",
    "p2 = Pessoa(30)\n",
    "p3 = Pessoa(60)"
   ]
  },
  {
   "cell_type": "code",
   "execution_count": null,
   "metadata": {},
   "outputs": [],
   "source": [
    "Pessoa.get_num_pessoas()\n",
    "#p1.get_num_pessoas()"
   ]
  },
  {
   "cell_type": "markdown",
   "metadata": {},
   "source": [
    "Métodos de classe\n",
    "    Métodos de classe: usamos o decorador: @classmethod\n",
    "    Métodos estáticos: usamos o decorador: @staticmethod\n",
    "\n",
    "(ambos não estão ligados a instância, mas sim a classe)"
   ]
  },
  {
   "cell_type": "code",
   "execution_count": null,
   "metadata": {},
   "outputs": [],
   "source": [
    "class Pessoa:\n",
    "    num_pessoas = 0\n",
    "\n",
    "    def __init__(self, idade):\n",
    "        self.__idade = idade\n",
    "        Pessoa.num_pessoas += 1\n",
    "\n",
    "    #por algum motivo cls é o padrão de classmethod\n",
    "    @classmethod\n",
    "    def get_num_pessoas(cls):\n",
    "        return Pessoa.num_pessoas"
   ]
  },
  {
   "cell_type": "code",
   "execution_count": null,
   "metadata": {},
   "outputs": [],
   "source": [
    "p1 = Pessoa(20)"
   ]
  },
  {
   "cell_type": "code",
   "execution_count": null,
   "metadata": {},
   "outputs": [],
   "source": [
    "Pessoa.get_num_pessoas()"
   ]
  },
  {
   "cell_type": "markdown",
   "metadata": {},
   "source": [
    "@classmethod (entram na herança)\n",
    "\n",
    "@staticmethod (não entram na herança)"
   ]
  },
  {
   "cell_type": "markdown",
   "metadata": {},
   "source": [
    "Conceito de _slots_"
   ]
  },
  {
   "cell_type": "code",
   "execution_count": null,
   "metadata": {},
   "outputs": [],
   "source": [
    "class Pessoa:\n",
    "    num_pessoas = 0\n",
    "    __slots__ = ['__idade', 'nome']\n",
    "\n",
    "    def __init__(self, idade, nome):\n",
    "        self.__idade = idade\n",
    "        self.nome = nome\n",
    "        Pessoa.num_pessoas += 1\n",
    "\n",
    "    #por algum motivo cls é o padrão de classmethod\n",
    "    @classmethod\n",
    "    def get_num_pessoas(cls):\n",
    "        return Pessoa.num_pessoas"
   ]
  },
  {
   "cell_type": "code",
   "execution_count": null,
   "metadata": {},
   "outputs": [],
   "source": [
    "pp = Pessoa(6, 'Filipe')"
   ]
  },
  {
   "cell_type": "code",
   "execution_count": null,
   "metadata": {},
   "outputs": [],
   "source": [
    "#sem os slots, é possível adicionar atributos\n",
    "pp.nome = 'Quilipe'"
   ]
  },
  {
   "cell_type": "markdown",
   "metadata": {},
   "source": [
    "Métodos Mágicos"
   ]
  },
  {
   "cell_type": "code",
   "execution_count": null,
   "metadata": {},
   "outputs": [],
   "source": [
    "#métodos fundamentais dentro da classe\n",
    "dir(pp)"
   ]
  },
  {
   "cell_type": "code",
   "execution_count": null,
   "metadata": {},
   "outputs": [],
   "source": [
    "pessoa = object.__new__(Pessoa)"
   ]
  },
  {
   "cell_type": "code",
   "execution_count": null,
   "metadata": {},
   "outputs": [],
   "source": [
    "pessoa.__init__(24, 'Filipe')"
   ]
  },
  {
   "cell_type": "code",
   "execution_count": null,
   "metadata": {},
   "outputs": [],
   "source": [
    "pessoa.nome"
   ]
  },
  {
   "cell_type": "markdown",
   "metadata": {},
   "source": [
    "Heranças das Classes\n",
    "\n",
    "Boas práticas: <br>\n",
    "    * Proteger os atributos os deixando privados <br>\n",
    "    * Encapsular fazendo validações de valores dos atributos <br>\n",
    "    * Usar heranças para evitar repetir códigos <br>\n",
    "\n",
    "Herança: <br>\n",
    "    * Toda classe já herda de object (mãe de todas as classes) <br>\n",
    "    * Classe mãe ou super class <br>\n",
    "    * Classe filha"
   ]
  },
  {
   "cell_type": "code",
   "execution_count": null,
   "metadata": {},
   "outputs": [],
   "source": [
    "#Super Clase object\n",
    "\n",
    "class Funcionario:\n",
    "    def __init__(self, nome, cpf, salario):\n",
    "        self._nome = nome\n",
    "        self._cpf = cpf\n",
    "        self._salario = salario"
   ]
  },
  {
   "cell_type": "code",
   "execution_count": null,
   "metadata": {},
   "outputs": [],
   "source": [
    "class Gerente:\n",
    "    def __init__(self, nome, cpf, salario, senha, qtd_subordinados):\n",
    "        self._nome = nome\n",
    "        self._cpf = cpf\n",
    "        self._salario = salario\n",
    "        self._senha = senha\n",
    "        self._qtd_subordinados = qtd_subordinados\n",
    "\n",
    "    def validacao(self, senha):\n",
    "        if self._senha == senha:\n",
    "            print(\"Acesso permitido\")\n",
    "        else:\n",
    "            print(\"Acesso negado\")"
   ]
  },
  {
   "cell_type": "code",
   "execution_count": null,
   "metadata": {},
   "outputs": [],
   "source": [
    "class Secretaria:\n",
    "    def __init__(self, nome, cpf, salario, ramal):\n",
    "        self._nome = nome\n",
    "        self._cpf = cpf\n",
    "        self._salario = salario\n",
    "        self._ramal = ramal"
   ]
  },
  {
   "cell_type": "code",
   "execution_count": null,
   "metadata": {},
   "outputs": [],
   "source": [
    "pessoa1 = Gerente(\"Filipe\", \"11111111101\", 5000, \"1514\", 10)"
   ]
  },
  {
   "cell_type": "code",
   "execution_count": null,
   "metadata": {},
   "outputs": [],
   "source": [
    "pessoa1.validacao(\"1514\")"
   ]
  },
  {
   "cell_type": "markdown",
   "metadata": {},
   "source": [
    "Agora com herança!!"
   ]
  },
  {
   "cell_type": "code",
   "execution_count": null,
   "metadata": {},
   "outputs": [],
   "source": [
    "#Super Clase object\n",
    "\n",
    "class Funcionario:\n",
    "    def __init__(self, nome, cpf, salario):\n",
    "        self._nome = nome\n",
    "        self._cpf = cpf\n",
    "        self._salario = salario"
   ]
  },
  {
   "cell_type": "code",
   "execution_count": null,
   "metadata": {},
   "outputs": [],
   "source": [
    "class Gerente(Funcionario):\n",
    "    def __init__(self, nome, cpf, salario, senha, qtd_subordinados):\n",
    "        Funcionario.__init__(self, nome, cpf, salario)\n",
    "        self._senha = senha\n",
    "        self._qtd_subordinados = qtd_subordinados\n",
    "\n",
    "    def validacao(self, senha):\n",
    "        if self._senha == senha:\n",
    "            print(\"Acesso permitido\")\n",
    "        else:\n",
    "            print(\"Acesso negado\")"
   ]
  },
  {
   "cell_type": "code",
   "execution_count": null,
   "metadata": {},
   "outputs": [],
   "source": [
    "pessoa1 = Gerente(\"Filipe\", \"11111111101\", 5000, \"1514\", 10)"
   ]
  },
  {
   "cell_type": "code",
   "execution_count": null,
   "metadata": {},
   "outputs": [],
   "source": [
    "pessoa1.validacao(\"1514\")"
   ]
  },
  {
   "cell_type": "code",
   "execution_count": null,
   "metadata": {},
   "outputs": [],
   "source": [
    "#Método Super()\n",
    "class Secretaria(Funcionario):\n",
    "    def __init__(self, nome, cpf, salario, ramal):\n",
    "        super().__init__(nome, cpf, salario)\n",
    "        self._ramal = ramal"
   ]
  },
  {
   "cell_type": "code",
   "execution_count": null,
   "metadata": {},
   "outputs": [],
   "source": [
    "s1 = Secretaria('Joaquina', '12121231224', 2500, '09')"
   ]
  },
  {
   "cell_type": "code",
   "execution_count": null,
   "metadata": {},
   "outputs": [],
   "source": [
    "s1._salario"
   ]
  },
  {
   "cell_type": "markdown",
   "metadata": {},
   "source": [
    "Tipo É UM (?)"
   ]
  },
  {
   "cell_type": "code",
   "execution_count": 27,
   "metadata": {},
   "outputs": [],
   "source": [
    "#É UM\n",
    "#Super Clase object\n",
    "\n",
    "class Funcionario:\n",
    "    def __init__(self, nome, cpf, salario):\n",
    "        self._nome = nome\n",
    "        self._cpf = cpf\n",
    "        self._salario = salario\n",
    "    \n",
    "    def mostra_bonus(self):\n",
    "        return self._salario*0.1\n"
   ]
  },
  {
   "cell_type": "code",
   "execution_count": 28,
   "metadata": {},
   "outputs": [],
   "source": [
    "class Gerente(Funcionario):\n",
    "    def __init__(self, nome, cpf, salario, senha, qtd_subordinados):\n",
    "        Funcionario.__init__(self, nome, cpf, salario)\n",
    "        self._senha = senha\n",
    "        self._qtd_subordinados = qtd_subordinados\n",
    "\n",
    "    def validacao(self, senha):\n",
    "        if self._senha == senha:\n",
    "            print(\"Acesso permitido\")\n",
    "        else:\n",
    "            print(\"Acesso negado\")\n",
    "\n",
    "    def mostra_bonus(self):\n",
    "        return self._salario*(self._qtd_subordinados/100)\n",
    "\n",
    "#Método Super()\n",
    "class Secretaria(Funcionario):\n",
    "    def __init__(self, nome, cpf, salario, qtde_gerentes):\n",
    "        super().__init__(nome, cpf, salario)\n",
    "        self._qtde_gerentes = qtde_gerentes\n",
    "    \n",
    "    def mostra_bonus(self):\n",
    "        return self._salario*(self._qtde_gerentes/100)"
   ]
  },
  {
   "cell_type": "code",
   "execution_count": null,
   "metadata": {},
   "outputs": [],
   "source": [
    "g1 = Gerente(\"Filipe\", \"11111111101\", 5000, \"1514\", 15)\n",
    "s1 = Secretaria('Joaquina', '12121231224', 2500, 60)"
   ]
  },
  {
   "cell_type": "code",
   "execution_count": 25,
   "metadata": {},
   "outputs": [
    {
     "data": {
      "text/plain": [
       "750.0"
      ]
     },
     "execution_count": 25,
     "metadata": {},
     "output_type": "execute_result"
    }
   ],
   "source": [
    "g1.mostra_bonus()"
   ]
  },
  {
   "cell_type": "code",
   "execution_count": null,
   "metadata": {},
   "outputs": [],
   "source": [
    "s1.mostra_bonus()"
   ]
  },
  {
   "cell_type": "markdown",
   "metadata": {},
   "source": [
    "POLIMORFISMO <br>\n",
    "    É a capacidade que um objeto possui de ser referenciado de várias formas\n",
    "\n",
    "Cuidado: <br>\n",
    "    Isso não quer dizer que o objeto fica se transformando <br>\n",
    "    Um objeto é instanciado de um tipo e fica sempre daquele tipo (o que muda é a maneira como fazemos a referência a ele)"
   ]
  },
  {
   "cell_type": "code",
   "execution_count": null,
   "metadata": {},
   "outputs": [],
   "source": [
    "#o polimorfismo é o fato de que um funcionário está entrando na função, mas caso tenha mostra_bonus() dentro, será feito...\n",
    "class GestaoDeBonus:\n",
    "\n",
    "    def __init__(self, total_bonificacoes=0):\n",
    "        self._total_bonificacoes = total_bonificacoes\n",
    "    \n",
    "    def registra(self, funcionario):\n",
    "        if(hasattr(funcionario, 'mostra_bonus')):\n",
    "            self._total_bonificacoes += funcionario.mostra_bonus()\n",
    "        else:\n",
    "            print(f\"O objeto {funcionario} não possui o método mostra_bonus()\")\n",
    "    \n",
    "    @property\n",
    "    def total_bonificacoes(self):\n",
    "        return self._total_bonificacoes"
   ]
  },
  {
   "cell_type": "code",
   "execution_count": 37,
   "metadata": {},
   "outputs": [],
   "source": [
    "g1 = Gerente(\"Filipe\", \"11111111101\", 5000, \"1514\", 15)\n",
    "s1 = Secretaria('Joaquina', '12121231224', 2500, 60)"
   ]
  },
  {
   "cell_type": "code",
   "execution_count": 40,
   "metadata": {},
   "outputs": [],
   "source": [
    "s2 = Secretaria('Joaquina', '12121231224', 2500, 6000)"
   ]
  },
  {
   "cell_type": "code",
   "execution_count": 31,
   "metadata": {},
   "outputs": [],
   "source": [
    "gestao = GestaoDeBonus()"
   ]
  },
  {
   "cell_type": "code",
   "execution_count": 33,
   "metadata": {},
   "outputs": [],
   "source": [
    "gestao.registra(g1)\n",
    "gestao.registra(s1)"
   ]
  },
  {
   "cell_type": "code",
   "execution_count": 36,
   "metadata": {},
   "outputs": [
    {
     "data": {
      "text/plain": [
       "2250.0"
      ]
     },
     "execution_count": 36,
     "metadata": {},
     "output_type": "execute_result"
    }
   ],
   "source": [
    "gestao.total_bonificacoes"
   ]
  },
  {
   "cell_type": "markdown",
   "metadata": {},
   "source": [
    "Função hasattr (Verificar se existe tal atributo)"
   ]
  },
  {
   "cell_type": "code",
   "execution_count": 39,
   "metadata": {},
   "outputs": [],
   "source": [
    "class Engenheiro:\n",
    "    def __init__(self, nome):\n",
    "        self._nome = nome"
   ]
  },
  {
   "cell_type": "code",
   "execution_count": 41,
   "metadata": {},
   "outputs": [],
   "source": [
    "e1 = Engenheiro('Filipe')"
   ]
  },
  {
   "cell_type": "code",
   "execution_count": null,
   "metadata": {},
   "outputs": [
    {
     "ename": "AttributeError",
     "evalue": "'Engenheiro' object has no attribute 'mostra_bonus'",
     "output_type": "error",
     "traceback": [
      "\u001b[1;31m---------------------------------------------------------------------------\u001b[0m",
      "\u001b[1;31mAttributeError\u001b[0m                            Traceback (most recent call last)",
      "Cell \u001b[1;32mIn[42], line 1\u001b[0m\n\u001b[1;32m----> 1\u001b[0m gestao\u001b[38;5;241m.\u001b[39mregistra(e1)\n",
      "Cell \u001b[1;32mIn[29], line 7\u001b[0m, in \u001b[0;36mGestaoDeBonus.registra\u001b[1;34m(self, funcionario)\u001b[0m\n\u001b[0;32m      6\u001b[0m \u001b[38;5;28;01mdef\u001b[39;00m \u001b[38;5;21mregistra\u001b[39m(\u001b[38;5;28mself\u001b[39m, funcionario):\n\u001b[1;32m----> 7\u001b[0m     \u001b[38;5;28mself\u001b[39m\u001b[38;5;241m.\u001b[39m_total_bonificacoes \u001b[38;5;241m+\u001b[39m\u001b[38;5;241m=\u001b[39m funcionario\u001b[38;5;241m.\u001b[39mmostra_bonus()\n",
      "\u001b[1;31mAttributeError\u001b[0m: 'Engenheiro' object has no attribute 'mostra_bonus'"
     ]
    }
   ],
   "source": [
    "#uau, nao tem como\n",
    "gestao.registra(e1)"
   ]
  }
 ],
 "metadata": {
  "kernelspec": {
   "display_name": "base",
   "language": "python",
   "name": "python3"
  },
  "language_info": {
   "codemirror_mode": {
    "name": "ipython",
    "version": 3
   },
   "file_extension": ".py",
   "mimetype": "text/x-python",
   "name": "python",
   "nbconvert_exporter": "python",
   "pygments_lexer": "ipython3",
   "version": "3.12.4"
  }
 },
 "nbformat": 4,
 "nbformat_minor": 2
}

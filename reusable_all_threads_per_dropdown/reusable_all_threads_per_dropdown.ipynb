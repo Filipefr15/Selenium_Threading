{
 "cells": [
  {
   "cell_type": "code",
   "execution_count": null,
   "metadata": {},
   "outputs": [
    {
     "name": "stdout",
     "output_type": "stream",
     "text": [
      "Driver da Thread 3 iniciado com sucesso\n",
      "Driver da Thread 5 iniciado com sucesso\n",
      "Erro no carregamento da Thread 1, reiniciando...\n",
      "Thread 5 pesquisou o CNPJ 51.017.442/0001-81\n",
      "Erro no carregamento da Thread 6, reiniciando...\n",
      "Thread 3 pesquisou o CNPJ 51.017.442/0001-81\n",
      "Driver da Thread 2 iniciado com sucesso\n",
      "Erro no carregamento da Thread 4, reiniciando...\n",
      "Thread 5 clicou em dados diários\n",
      "Thread 5 iniciando coleta de dados diários\n",
      "Thread 2 pesquisou o CNPJ 51.017.442/0001-81\n",
      "Thread 3 clicou em dados diários\n",
      "Thread 2 clicou em dados diários\n",
      "Thread 3 iniciando coleta de dados diários\n",
      "Thread 2 iniciando coleta de dados diários\n",
      "Thread 5 finalizou coleta de dados diários\n",
      "[]\n",
      "Thread 5 reiniciando procura de dados diários\n",
      "Thread 5 iniciando coleta de dados diários\n"
     ]
    },
    {
     "name": "stderr",
     "output_type": "stream",
     "text": [
      "Exception in thread Thread-21 (get_inside):\n",
      "Traceback (most recent call last):\n",
      "  File \"c:\\USERS\\FRODRIGUES\\APPDATA\\LOCAL\\ANACONDA3\\Lib\\threading.py\", line 1073, in _bootstrap_inner\n",
      "    self.run()\n",
      "  File \"c:\\USERS\\FRODRIGUES\\APPDATA\\LOCAL\\ANACONDA3\\Lib\\threading.py\", line 1010, in run\n",
      "    self._target(*self._args, **self._kwargs)\n",
      "  File \"C:\\Users\\frodrigues\\AppData\\Local\\Temp\\ipykernel_33936\\1110155510.py\", line 84, in get_inside\n",
      "  File \"c:\\Users\\frodrigues\\Python\\Threading_Rent_Catcher\\reusable_all_threads_per_dropdown\\get_daily_data.py\", line 69, in get_daily_data\n",
      "    get_daily_data(index, driver, cnpj, stored_name, new_item_to_finish)\n",
      "  File \"c:\\Users\\frodrigues\\Python\\Threading_Rent_Catcher\\reusable_all_threads_per_dropdown\\get_daily_data.py\", line 31, in get_daily_data\n",
      "    dropdown_data_pesquisa.select_by_index(item_to_finish)\n",
      "  File \"c:\\USERS\\FRODRIGUES\\APPDATA\\LOCAL\\ANACONDA3\\Lib\\site-packages\\selenium\\webdriver\\support\\select.py\", line 103, in select_by_index\n",
      "    raise NoSuchElementException(\"Could not locate element with index %d\" % index)\n",
      "                                 ~~~~~~~~~~~~~~~~~~~~~~~~~~~~~~~~~~~~~~~~~^~~~~~~\n",
      "TypeError: %d format: a real number is required, not type\n"
     ]
    },
    {
     "name": "stdout",
     "output_type": "stream",
     "text": [
      "Thread 2 finalizou coleta de dados diários\n",
      "[]\n",
      "Thread 2 reiniciando procura de dados diários\n",
      "Thread 2 iniciando coleta de dados diários\n",
      "Thread 3 finalizou coleta de dados diários\n",
      "[]\n",
      "Thread 3 reiniciando procura de dados diários\n",
      "Thread 3 iniciando coleta de dados diários\n"
     ]
    }
   ],
   "source": [
    "import threading\n",
    "from selenium.webdriver.common.by import By\n",
    "from selenium.webdriver.support.ui import WebDriverWait, Select\n",
    "from selenium.webdriver.support import expected_conditions as EC\n",
    "from selenium.webdriver.common.keys import Keys\n",
    "from selenium.common.exceptions import TimeoutException\n",
    "from openpyxl import load_workbook\n",
    "from init_driver import init_driver\n",
    "from count_dropdown_itens import count_dropdown_itens\n",
    "from list_helper import list_pop, list_receiver\n",
    "from get_daily_data import get_daily_data\n",
    "\n",
    "wb = load_workbook('../BD_CADASTRO_NUMERADO_AGO_TESTE.xlsx')\n",
    "ws, ws2 = wb['Fundos'], wb['Fundos_Cota']\n",
    "lista_cnpj = []\n",
    "\n",
    "for row in ws.iter_rows(values_only=True):\n",
    "    cnpj = row[1]\n",
    "    lista_cnpj.append(cnpj)\n",
    "\n",
    "for row in ws2.iter_rows(values_only=True):\n",
    "    cnpj = row[1] \n",
    "    lista_cnpj.append(cnpj)\n",
    "\n",
    "print(\"Coleta de CNPJs finalizada\")\n",
    "\n",
    "dados_diarios_list = []\n",
    "\n",
    "def get_inside(cnpj, index, item_to_finish):\n",
    "    try:\n",
    "        print(f\"Thread {index+1} iniciada para o CNPJ {cnpj}\")\n",
    "        driver = init_driver(index)\n",
    "        print(f\"Driver da Thread {index+1} iniciado com sucesso\")\n",
    "\n",
    "        #pesquisa e troca para o frame correto sem precisar declarar uma variável nova no processo\n",
    "        WebDriverWait(driver, 10).until(\n",
    "        EC.frame_to_be_available_and_switch_to_it((By.XPATH, \"//frame[@name='Main']\"))\n",
    "        )\n",
    "\n",
    "        search_input = WebDriverWait(driver, 10).until(\n",
    "            EC.presence_of_element_located((By.XPATH, \"//input[@id='txtCNPJNome']\"))\n",
    "        )\n",
    "\n",
    "        search_input.clear()\n",
    "        \n",
    "        search_input.send_keys(cnpj)\n",
    "        search_input.send_keys(Keys.ENTER)\n",
    "        print(f\"Thread {index+1} pesquisou o CNPJ {cnpj}\")\n",
    "\n",
    "        try:\n",
    "            find_name_to_store = WebDriverWait(driver, 1).until(\n",
    "                EC.presence_of_element_located((By.XPATH, \"//a[@id='ddlFundos__ctl1_Linkbutton4']\"))\n",
    "            )\n",
    "        except TimeoutException:\n",
    "            find_name_to_store = WebDriverWait(driver, 10).until(\n",
    "                EC.presence_of_element_located((By.XPATH, \"//a[@id='ddlFundos__ctl0_lnkbtn1']\"))\n",
    "            )\n",
    "\n",
    "        stored_name = find_name_to_store.text\n",
    "        find_name_to_store.click()\n",
    "\n",
    "        driver.switch_to.default_content()\n",
    "\n",
    "        #pesquisa e troca para o frame correto sem precisar declarar uma variável nova no processo\n",
    "        WebDriverWait(driver, 10).until(\n",
    "            EC.frame_to_be_available_and_switch_to_it((By.XPATH, \"//frame[@name='Main']\"))\n",
    "        )\n",
    "\n",
    "        dados_diarios = WebDriverWait(driver, 10).until(\n",
    "            EC.presence_of_element_located((By.XPATH, \"//a[@id='Hyperlink2']\"))\n",
    "        )\n",
    "        dados_diarios.click()\n",
    "        print(f\"Thread {index+1} clicou em dados diários\")\n",
    "\n",
    "        driver.switch_to.default_content()\n",
    "\n",
    "        #pop-up com mensagem irrelevante aparece e precisa ser fechado.\n",
    "        try:\n",
    "            alert = WebDriverWait(driver, 3).until(EC.alert_is_present())\n",
    "            alert.accept()\n",
    "        except:\n",
    "            pass\n",
    "\n",
    "        dados_diarios_list.append(get_daily_data(index, driver, cnpj, stored_name, item_to_finish))\n",
    "\n",
    "        \n",
    "    except TimeoutException:\n",
    "        print(f\"Erro na Thread {index+1}\")\n",
    "        driver.quit()\n",
    "        print(f\"Thread {index+1} reiniciando...\")\n",
    "        get_inside(cnpj, index, item_to_finish)\n",
    "    driver.quit()\n",
    "\n",
    "list_cnpj_teste = [\"58.878.941/0001-02\", \"36.248.874/0001-00\", \"51.017.442/0001-81\", \"57.270.020/0001-08\"]\n",
    "\n",
    "threads = []\n",
    "\n",
    "# Criando threads em blocos de 8\n",
    "for cnpj in list_cnpj_teste:\n",
    "    print(\"Coleta tamanho do dropdown iniciada\")\n",
    "    tamanho = count_dropdown_itens(cnpj)\n",
    "    print(\"Tamanho do dropdown coletado com sucesso\")\n",
    "    list_to_finish = list(range(tamanho))\n",
    "    list_receiver(list_to_finish)\n",
    "    for index in range(6):\n",
    "        try:\n",
    "            var = list_pop()\n",
    "            thread = threading.Thread(target=get_inside, args=(cnpj, index, var))\n",
    "            print(list_to_finish)\n",
    "            threads.append(thread)\n",
    "            thread.start()\n",
    "        except IndexError:\n",
    "            pass\n",
    "\n",
    "# Aguardando todas as threads terminarem\n",
    "for thread in threads:\n",
    "    thread.join()\n",
    "\n",
    "print(\"Todas as Threads foram finalizadas\")"
   ]
  },
  {
   "cell_type": "code",
   "execution_count": null,
   "metadata": {},
   "outputs": [],
   "source": [
    "import pandas as pd\n",
    "testing = pd.DataFrame(dados_diarios_list)\n",
    "testing['Mês'] = pd.to_datetime(testing['Mês'], format='%m/%Y')\n",
    "testing_sorted = testing.sort_values(by='Mês', ignore_index=True)\n",
    "\n",
    "testing_sorted"
   ]
  },
  {
   "cell_type": "code",
   "execution_count": null,
   "metadata": {},
   "outputs": [],
   "source": [
    "testing_sorted = testing.sort_values(by=['Cnpj', 'Mês'], ignore_index=True)\n",
    "testing_sorted"
   ]
  },
  {
   "cell_type": "code",
   "execution_count": null,
   "metadata": {},
   "outputs": [],
   "source": [
    "testing_sorted.to_excel('teste.xlsx', index=False)"
   ]
  },
  {
   "cell_type": "code",
   "execution_count": null,
   "metadata": {},
   "outputs": [],
   "source": [
    "testing_sorted = testing.sort_values(by='Mês', ignore_index=True)\n",
    "testing_sorted"
   ]
  },
  {
   "cell_type": "code",
   "execution_count": null,
   "metadata": {},
   "outputs": [],
   "source": [
    "tamanho = 6\n",
    "to_int = int(tamanho)"
   ]
  },
  {
   "cell_type": "code",
   "execution_count": null,
   "metadata": {},
   "outputs": [],
   "source": [
    "a = list(range(to_int))"
   ]
  },
  {
   "cell_type": "code",
   "execution_count": null,
   "metadata": {},
   "outputs": [],
   "source": [
    "b = a.pop(0)\n",
    "print(b)"
   ]
  },
  {
   "cell_type": "code",
   "execution_count": null,
   "metadata": {},
   "outputs": [],
   "source": [
    "import psutil\n",
    "\n",
    "def kill_webdrivers():\n",
    "    for process in psutil.process_iter(attrs=['pid', 'name']):\n",
    "        if process.info['name'] and ('chromedriver' in process.info['name'].lower() or 'geckodriver' in process.info['name'].lower()):\n",
    "            print(f\"Matando processo {process.info['name']} (PID: {process.info['pid']})\")\n",
    "            psutil.Process(process.info['pid']).terminate()  # Encerra o processo\n",
    "\n",
    "kill_webdrivers()\n"
   ]
  }
 ],
 "metadata": {
  "kernelspec": {
   "display_name": "base",
   "language": "python",
   "name": "python3"
  },
  "language_info": {
   "codemirror_mode": {
    "name": "ipython",
    "version": 3
   },
   "file_extension": ".py",
   "mimetype": "text/x-python",
   "name": "python",
   "nbconvert_exporter": "python",
   "pygments_lexer": "ipython3",
   "version": "3.12.4"
  }
 },
 "nbformat": 4,
 "nbformat_minor": 2
}
